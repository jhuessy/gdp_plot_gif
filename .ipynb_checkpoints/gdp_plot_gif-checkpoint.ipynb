{
 "cells": [
  {
   "cell_type": "code",
   "execution_count": 1,
   "metadata": {},
   "outputs": [],
   "source": [
    "#\n",
    "#IMPORTS\n",
    "#\n",
    "import pandas as pd\n",
    "import numpy as np\n",
    "import matplotlib.pyplot as plt\n",
    "import matplotlib\n",
    "import imageio as io\n",
    "import os\n",
    "import math"
   ]
  },
  {
   "cell_type": "code",
   "execution_count": 2,
   "metadata": {},
   "outputs": [],
   "source": [
    "#\n",
    "#READ FILES\n",
    "#\n",
    "\n",
    "#MAIN GDP DATA FILE\n",
    "gdp_data = pd.read_csv(\"./API_NY.GDP.MKTP.CD_DS2_en_csv_v2_10576830/API_NY.GDP.MKTP.CD_DS2_en_csv_v2_10576830.csv\",\n",
    "                       skiprows=4)\n",
    "\n",
    "#GDP METADATA FILE WITH COUNTRY INFO\n",
    "country_data =pd.read_csv(\n",
    "    \"./API_NY.GDP.MKTP.CD_DS2_en_csv_v2_10576830/Metadata_Country_API_NY.GDP.MKTP.CD_DS2_en_csv_v2_10576830.csv\")\n",
    "\n",
    "#POPULATION DATA FILE\n",
    "pop_data = pd.read_csv(\"./API_SP.POP.TOTL_DS2_en_csv_v2_10576638/API_SP.POP.TOTL_DS2_en_csv_v2_10576638.csv\", \n",
    "                       skiprows=4)\n",
    "\n",
    "\n"
   ]
  },
  {
   "cell_type": "code",
   "execution_count": 3,
   "metadata": {},
   "outputs": [],
   "source": [
    "#\n",
    "#CREATE DATAFRAME OF REGIONS (MATCH EVERY COUNTRY IN GDP FILE TO IT'S REGION IN THE METADATA FILE)\n",
    "#\n",
    "country_regions = country_data.loc[(country_data['Country Code'].isin(gdp_data['Country Code']) )&\n",
    "                                   (country_data['Region'].notnull())]"
   ]
  },
  {
   "cell_type": "code",
   "execution_count": 4,
   "metadata": {},
   "outputs": [],
   "source": [
    "#\n",
    "#ITERATE THROUGH COUNTRIES AND MATCH REGION TO COLOR\n",
    "#\n",
    "country_colors = []\n",
    "for country_region in country_regions['Region']:\n",
    "    if country_region=='Europe & Central Asia':\n",
    "        country_colors.append('Red')\n",
    "    if country_region=='Sub-Saharan Africa':\n",
    "        country_colors.append('Blue')\n",
    "    if country_region=='Latin America & Caribbean':\n",
    "        country_colors.append('Green')\n",
    "    if country_region=='East Asia & Pacific':\n",
    "        country_colors.append('purple')\n",
    "    if country_region=='Middle East & North Africa':\n",
    "        country_colors.append('Black')\n",
    "    if country_region=='South Asia':\n",
    "        country_colors.append('Orange')\n",
    "    if country_region=='North America':\n",
    "        country_colors.append('Grey')"
   ]
  },
  {
   "cell_type": "code",
   "execution_count": 5,
   "metadata": {},
   "outputs": [],
   "source": [
    "#\n",
    "#REMOVE AGGREGATE RECORDS FROM DATA (AGGREGATE RECORDS HAVE NULL REGIONS IN THE COUNTRY METADATA)\n",
    "#\n",
    "gdp = gdp_data.loc[gdp_data['Country Code'].isin( \n",
    "                    country_data.loc[country_data['Region'].notnull()]['Country Code'].tolist())]\n",
    "pop = pop_data.loc[pop_data['Country Code'].isin( \n",
    "                    country_data.loc[country_data['Region'].notnull()]['Country Code'].tolist())]"
   ]
  },
  {
   "cell_type": "code",
   "execution_count": 6,
   "metadata": {},
   "outputs": [],
   "source": [
    "#\n",
    "#CREATE PLOTS\n",
    "#\n",
    "\n",
    "#ITERATE OVER YEARS IN DATA\n",
    "for years in range(1960,2019):\n",
    "    #CONVERT YEARS TO STRING SO WE CAN USE IT AS A DATAFRAME INDEX\n",
    "    year = str(years)\n",
    "    #CREATE THE PLOT\n",
    "    fig, ax = plt.subplots(figsize=(12,12))\n",
    "    \n",
    "    #ALTERNATE PLOT USING .SCATTER()\n",
    "    #plt.scatter(pop[year],gdp[year]/pop[year],c=country_colors)\n",
    "    #(SIMPLER, BUT HARDER FOR THE VIEWER TO SEE WHAT IS GOING ON)\n",
    "    \n",
    "    #ITERATE OVER COUNTRIES IN DATA\n",
    "    for i in range(len(gdp[year])):\n",
    "        #ADD COUNTRY TO PLOT IF GDP AND POPULATION ARE NOT NULL\n",
    "        if (np.isnan(gdp[year].iat[i])==False)&(np.isnan(pop[year].iat[i])==False):\n",
    "            plt.text(x=pop[year].iat[i], #POPULATION\n",
    "                    y=gdp[year].iat[i]/(pop[year].iat[i]), #GDP PER CAPITA\n",
    "                    c=country_colors[i], #REGION COLOR\n",
    "                    s=gdp['Country Code'].iat[i]) #TEXT MARKER IS COUNTRY CODE\n",
    "    #AXIS LABELS\n",
    "    plt.ylabel('GDP per Capita')\n",
    "    plt.xlabel('Population')\n",
    "    #PLOT TITLE\n",
    "    plt.title(year, fontsize=16)\n",
    "    #SET AXIS SCALE (WE ARE USING THIS AS A CHEAT TO REMOVE OUTLIERS)\n",
    "    ax.set_xlim(0,100_000_000)\n",
    "    ax.set_ylim(0,150_000)\n",
    "    #FORMAT AXIS TICKS TO WHOLE NUMBERS\n",
    "    #(THIS WAS A REAL PAIN, ADAPTED FROM \n",
    "    #https://stackoverflow.com/questions/25973581/how-do-i-format-axis-number-format-to-thousands-with-a-comma-in-matplotlib)\n",
    "    #ax.yaxis.set_major_formatter(matplotlib.ticker.FormatStrFormatter(lambda x, p: format(int(x), ',')))\n",
    "    #ax.xaxis.set_major_formatter(matplotlib.ticker.FormatStrFormatter(lambda x, p: format(int(x), ',')))\n",
    "    \n",
    "    ax.get_xaxis().set_major_formatter(matplotlib.ticker.FuncFormatter(lambda x, p: format(int(x), ',')))\n",
    "    ax.get_yaxis().set_major_formatter(matplotlib.ticker.FuncFormatter(lambda y, p: format(int(y), ',')))\n",
    "    # SAVE FILE WITH YEAR INDEX\n",
    "    filename = f'gdppop{year}'\n",
    "    plt.savefig(filename,dpi=150)\n",
    "    #CLOSE PLOTS\n",
    "    plt.close('all')"
   ]
  },
  {
   "cell_type": "code",
   "execution_count": 7,
   "metadata": {},
   "outputs": [],
   "source": [
    "#\n",
    "#MAKE GIF (ADAPTED FROM https://stackoverflow.com/questions/41228209/making-gif-from-images-using-imageio-in-python)\n",
    "#\n",
    "\n",
    "#CREATE SORTED LIST OF FILENAMES\n",
    "file_names = sorted((fn for fn in os.listdir('.') if fn.startswith('gdppop')))\n",
    "#USE IMAGE IO TO CREATE A GIF\n",
    "with io.get_writer('gdppop.gif', mode='I', duration=0.1) as writer:\n",
    "    #ITERATE OVER FILENAMES\n",
    "    for filename in file_names:\n",
    "        #READ IN FILE\n",
    "        image = io.imread(filename)\n",
    "        #APPEND FILE TO GIF\n",
    "        writer.append_data(image)\n",
    "writer.close()"
   ]
  },
  {
   "cell_type": "code",
   "execution_count": null,
   "metadata": {},
   "outputs": [],
   "source": []
  }
 ],
 "metadata": {
  "kernelspec": {
   "display_name": "Python 3",
   "language": "python",
   "name": "python3"
  },
  "language_info": {
   "codemirror_mode": {
    "name": "ipython",
    "version": 3
   },
   "file_extension": ".py",
   "mimetype": "text/x-python",
   "name": "python",
   "nbconvert_exporter": "python",
   "pygments_lexer": "ipython3",
   "version": "3.7.3"
  }
 },
 "nbformat": 4,
 "nbformat_minor": 2
}
